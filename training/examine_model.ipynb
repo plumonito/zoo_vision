{
 "cells": [
  {
   "cell_type": "code",
   "execution_count": 1,
   "metadata": {},
   "outputs": [
    {
     "name": "stderr",
     "output_type": "stream",
     "text": [
      "2025-01-14 13:58:17.525695: I tensorflow/core/util/port.cc:153] oneDNN custom operations are on. You may see slightly different numerical results due to floating-point round-off errors from different computation orders. To turn them off, set the environment variable `TF_ENABLE_ONEDNN_OPTS=0`.\n",
      "2025-01-14 13:58:17.678431: E external/local_xla/xla/stream_executor/cuda/cuda_fft.cc:477] Unable to register cuFFT factory: Attempting to register factory for plugin cuFFT when one has already been registered\n",
      "WARNING: All log messages before absl::InitializeLog() is called are written to STDERR\n",
      "E0000 00:00:1736859497.733552    8114 cuda_dnn.cc:8310] Unable to register cuDNN factory: Attempting to register factory for plugin cuDNN when one has already been registered\n",
      "E0000 00:00:1736859497.751130    8114 cuda_blas.cc:1418] Unable to register cuBLAS factory: Attempting to register factory for plugin cuBLAS when one has already been registered\n",
      "2025-01-14 13:58:17.898836: I tensorflow/core/platform/cpu_feature_guard.cc:210] This TensorFlow binary is optimized to use available CPU instructions in performance-critical operations.\n",
      "To enable the following instructions: AVX2 AVX_VNNI FMA, in other operations, rebuild TensorFlow with the appropriate compiler flags.\n"
     ]
    }
   ],
   "source": [
    "# Load the TensorBoard notebook extension.\n",
    "%load_ext tensorboard\n",
    "import tensorflow as tf\n",
    "import numpy as np\n",
    "from  datetime import datetime"
   ]
  },
  {
   "cell_type": "code",
   "execution_count": 2,
   "metadata": {},
   "outputs": [
    {
     "name": "stderr",
     "output_type": "stream",
     "text": [
      "W0000 00:00:1736859506.683081    8114 gpu_device.cc:2344] Cannot dlopen some GPU libraries. Please make sure the missing libraries mentioned above are installed properly if you would like to use GPU. Follow the guide at https://www.tensorflow.org/install/gpu for how to download and setup the required libraries for your platform.\n",
      "Skipping registering GPU devices...\n"
     ]
    }
   ],
   "source": [
    "model = tf.saved_model.load(\"../models/camera0/segmentation/saved_model\")"
   ]
  },
  {
   "cell_type": "code",
   "execution_count": null,
   "metadata": {},
   "outputs": [
    {
     "data": {
      "text/plain": [
       "((),\n",
       " {'input_anchors': TensorSpec(shape=(None, None, 4), dtype=tf.float32, name='input_anchors'),\n",
       "  'input_image': TensorSpec(shape=(None, None, None, 3), dtype=tf.float32, name='input_image'),\n",
       "  'input_image_meta': TensorSpec(shape=(None, 14), dtype=tf.float32, name='input_image_meta')})"
      ]
     },
     "metadata": {},
     "output_type": "display_data"
    },
    {
     "data": {
      "text/plain": [
       "((),\n",
       " {'input_image': TensorSpec(shape=(None, None, None, 3), dtype=tf.float32, name='input_image'),\n",
       "  'input_image_meta': TensorSpec(shape=(None, 14), dtype=tf.float32, name='input_image_meta'),\n",
       "  'input_anchors': TensorSpec(shape=(None, None, 4), dtype=tf.float32, name='input_anchors')})"
      ]
     },
     "execution_count": 3,
     "metadata": {},
     "output_type": "execute_result"
    }
   ],
   "source": [
    "sig0 = model.signatures[\"serving_default\"].structured_input_signature\n",
    "display(sig0)\n",
    "sig = (\n",
    "    (),\n",
    "    {\n",
    "        \"input_image\": sig0[1][\"input_image\"],\n",
    "        \"input_image_meta\": sig0[1][\"input_image_meta\"],\n",
    "        \"input_anchors\": sig0[1][\"input_anchors\"],\n",
    "    },\n",
    ")\n",
    "sig"
   ]
  },
  {
   "cell_type": "code",
   "execution_count": 26,
   "metadata": {},
   "outputs": [
    {
     "data": {
      "text/plain": [
       "array([[[-0.02211869, -0.01105934,  0.02114117,  0.01008183],\n",
       "        [-0.01564027, -0.01564027,  0.01466276,  0.01466276],\n",
       "        [-0.01105934, -0.02211869,  0.01008183,  0.02114117],\n",
       "        ...,\n",
       "        [ 0.5845174 ,  0.7614669 ,  1.2913378 ,  1.1143883 ],\n",
       "        [ 0.68817204,  0.68817204,  1.1876833 ,  1.1876833 ],\n",
       "        [ 0.7614669 ,  0.5845174 ,  1.1143883 ,  1.2913378 ]]],\n",
       "      dtype=float32)"
      ]
     },
     "metadata": {},
     "output_type": "display_data"
    },
    {
     "name": "stdout",
     "output_type": "stream",
     "text": [
      "image_metas [[0.000e+00 1.024e+03 1.024e+03 3.000e+00 1.024e+03 1.024e+03 3.000e+00\n",
      "  0.000e+00 0.000e+00 1.024e+03 1.024e+03 1.000e+00 0.000e+00 0.000e+00]]\n"
     ]
    },
    {
     "data": {
      "text/plain": [
       "(1, 10, 6)"
      ]
     },
     "metadata": {},
     "output_type": "display_data"
    },
    {
     "data": {
      "text/plain": [
       "array([[[0.31554943, 0.60850537, 0.45372224, 0.69937855, 1.        ,\n",
       "         0.99838877],\n",
       "        [0.37167203, 0.4351973 , 0.39085433, 0.4648971 , 1.        ,\n",
       "         0.8981155 ],\n",
       "        [0.        , 0.        , 0.        , 0.        , 0.        ,\n",
       "         0.        ],\n",
       "        [0.        , 0.        , 0.        , 0.        , 0.        ,\n",
       "         0.        ],\n",
       "        [0.        , 0.        , 0.        , 0.        , 0.        ,\n",
       "         0.        ],\n",
       "        [0.        , 0.        , 0.        , 0.        , 0.        ,\n",
       "         0.        ],\n",
       "        [0.        , 0.        , 0.        , 0.        , 0.        ,\n",
       "         0.        ],\n",
       "        [0.        , 0.        , 0.        , 0.        , 0.        ,\n",
       "         0.        ],\n",
       "        [0.        , 0.        , 0.        , 0.        , 0.        ,\n",
       "         0.        ],\n",
       "        [0.        , 0.        , 0.        , 0.        , 0.        ,\n",
       "         0.        ]]], dtype=float32)"
      ]
     },
     "metadata": {},
     "output_type": "display_data"
    }
   ],
   "source": [
    "from pathlib import Path\n",
    "\n",
    "with Path(\"./input.py.bin\").open() as f:\n",
    "    c = f.read()\n",
    "exec(c)\n",
    "images: np.ndarray\n",
    "image_metas: np.ndarray\n",
    "anchors: np.ndarray\n",
    "\n",
    "images = images.astype(np.float32)\n",
    "image_metas = image_metas.astype(np.float32)\n",
    "anchors = anchors.astype(np.float32)\n",
    "display(anchors)\n",
    "print(\"image_metas\", image_metas)\n",
    "display(detections.shape)\n",
    "display(detections)"
   ]
  },
  {
   "cell_type": "code",
   "execution_count": null,
   "metadata": {},
   "outputs": [
    {
     "data": {
      "text/plain": [
       "(1, 261888, 4)"
      ]
     },
     "metadata": {},
     "output_type": "display_data"
    },
    {
     "data": {
      "text/plain": [
       "array([[-0.02211869, -0.01105934,  0.02114117,  0.01008183],\n",
       "       [-0.01564027, -0.01564027,  0.01466276,  0.01466276],\n",
       "       [-0.01105934, -0.02211869,  0.01008183,  0.02114117],\n",
       "       [-0.02211869, -0.00714928,  0.02114117,  0.0139919 ]],\n",
       "      dtype=float32)"
      ]
     },
     "metadata": {},
     "output_type": "display_data"
    }
   ],
   "source": [
    "display(anchors.shape)\n",
    "# anchors = anchors.reshape(-1)\n",
    "# anchors[:] = range(anchors.shape[0])\n",
    "# anchors=anchors.reshape((1,261888,4))\n",
    "display(anchors[0, 0:4, 0:4])\n",
    "with Path(\"../models/camera0/segmentation/anchors.bin\").open(\"bw\") as f:\n",
    "    f.write(anchors.tobytes())"
   ]
  },
  {
   "cell_type": "code",
   "execution_count": 28,
   "metadata": {},
   "outputs": [
    {
     "name": "stderr",
     "output_type": "stream",
     "text": [
      "W0000 00:00:1736866716.873729    8114 op_level_cost_estimator.cc:699] Error in PredictCost() for the op: op: \"CropAndResize\" attr { key: \"T\" value { type: DT_FLOAT } } attr { key: \"extrapolation_value\" value { f: 0 } } attr { key: \"method\" value { s: \"bilinear\" } } inputs { dtype: DT_FLOAT shape { dim { size: 1 } dim { size: 256 } dim { size: 256 } dim { size: 256 } } } inputs { dtype: DT_FLOAT shape { dim { size: -20 } dim { size: 4 } } } inputs { dtype: DT_INT32 shape { dim { size: -20 } } } inputs { dtype: DT_INT32 shape { dim { size: 2 } } value { dtype: DT_INT32 tensor_shape { dim { size: 2 } } int_val: 7 } } device { type: \"CPU\" vendor: \"GenuineIntel\" model: \"103\" frequency: 1996 num_cores: 32 environment { key: \"cpu_instruction_set\" value: \"AVX SSE, SSE2, SSE3, SSSE3, SSE4.1, SSE4.2\" } environment { key: \"eigen\" value: \"3.4.90\" } l1_cache_size: 49152 l2_cache_size: 2097152 l3_cache_size: 37748736 memory_size: 268435456 } outputs { dtype: DT_FLOAT shape { dim { size: -20 } dim { size: 7 } dim { size: 7 } dim { size: 256 } } }\n",
      "W0000 00:00:1736866716.873843    8114 op_level_cost_estimator.cc:699] Error in PredictCost() for the op: op: \"CropAndResize\" attr { key: \"T\" value { type: DT_FLOAT } } attr { key: \"extrapolation_value\" value { f: 0 } } attr { key: \"method\" value { s: \"bilinear\" } } inputs { dtype: DT_FLOAT shape { dim { size: 1 } dim { size: 128 } dim { size: 128 } dim { size: 256 } } } inputs { dtype: DT_FLOAT shape { dim { size: -23 } dim { size: 4 } } } inputs { dtype: DT_INT32 shape { dim { size: -23 } } } inputs { dtype: DT_INT32 shape { dim { size: 2 } } value { dtype: DT_INT32 tensor_shape { dim { size: 2 } } int_val: 7 } } device { type: \"CPU\" vendor: \"GenuineIntel\" model: \"103\" frequency: 1996 num_cores: 32 environment { key: \"cpu_instruction_set\" value: \"AVX SSE, SSE2, SSE3, SSSE3, SSE4.1, SSE4.2\" } environment { key: \"eigen\" value: \"3.4.90\" } l1_cache_size: 49152 l2_cache_size: 2097152 l3_cache_size: 37748736 memory_size: 268435456 } outputs { dtype: DT_FLOAT shape { dim { size: -23 } dim { size: 7 } dim { size: 7 } dim { size: 256 } } }\n",
      "W0000 00:00:1736866716.873862    8114 op_level_cost_estimator.cc:699] Error in PredictCost() for the op: op: \"CropAndResize\" attr { key: \"T\" value { type: DT_FLOAT } } attr { key: \"extrapolation_value\" value { f: 0 } } attr { key: \"method\" value { s: \"bilinear\" } } inputs { dtype: DT_FLOAT shape { dim { size: 1 } dim { size: 64 } dim { size: 64 } dim { size: 256 } } } inputs { dtype: DT_FLOAT shape { dim { size: -25 } dim { size: 4 } } } inputs { dtype: DT_INT32 shape { dim { size: -25 } } } inputs { dtype: DT_INT32 shape { dim { size: 2 } } value { dtype: DT_INT32 tensor_shape { dim { size: 2 } } int_val: 7 } } device { type: \"CPU\" vendor: \"GenuineIntel\" model: \"103\" frequency: 1996 num_cores: 32 environment { key: \"cpu_instruction_set\" value: \"AVX SSE, SSE2, SSE3, SSSE3, SSE4.1, SSE4.2\" } environment { key: \"eigen\" value: \"3.4.90\" } l1_cache_size: 49152 l2_cache_size: 2097152 l3_cache_size: 37748736 memory_size: 268435456 } outputs { dtype: DT_FLOAT shape { dim { size: -25 } dim { size: 7 } dim { size: 7 } dim { size: 256 } } }\n",
      "W0000 00:00:1736866716.873886    8114 op_level_cost_estimator.cc:699] Error in PredictCost() for the op: op: \"CropAndResize\" attr { key: \"T\" value { type: DT_FLOAT } } attr { key: \"extrapolation_value\" value { f: 0 } } attr { key: \"method\" value { s: \"bilinear\" } } inputs { dtype: DT_FLOAT shape { dim { size: 1 } dim { size: 32 } dim { size: 32 } dim { size: 256 } } } inputs { dtype: DT_FLOAT shape { dim { size: -27 } dim { size: 4 } } } inputs { dtype: DT_INT32 shape { dim { size: -27 } } } inputs { dtype: DT_INT32 shape { dim { size: 2 } } value { dtype: DT_INT32 tensor_shape { dim { size: 2 } } int_val: 7 } } device { type: \"CPU\" vendor: \"GenuineIntel\" model: \"103\" frequency: 1996 num_cores: 32 environment { key: \"cpu_instruction_set\" value: \"AVX SSE, SSE2, SSE3, SSSE3, SSE4.1, SSE4.2\" } environment { key: \"eigen\" value: \"3.4.90\" } l1_cache_size: 49152 l2_cache_size: 2097152 l3_cache_size: 37748736 memory_size: 268435456 } outputs { dtype: DT_FLOAT shape { dim { size: -27 } dim { size: 7 } dim { size: 7 } dim { size: 256 } } }\n",
      "W0000 00:00:1736866716.875214    8114 op_level_cost_estimator.cc:699] Error in PredictCost() for the op: op: \"CropAndResize\" attr { key: \"T\" value { type: DT_FLOAT } } attr { key: \"extrapolation_value\" value { f: 0 } } attr { key: \"method\" value { s: \"bilinear\" } } inputs { dtype: DT_FLOAT shape { dim { size: 1 } dim { size: 256 } dim { size: 256 } dim { size: 256 } } } inputs { dtype: DT_FLOAT shape { dim { size: -9 } dim { size: 4 } } } inputs { dtype: DT_INT32 shape { dim { size: -9 } } } inputs { dtype: DT_INT32 shape { dim { size: 2 } } value { dtype: DT_INT32 tensor_shape { dim { size: 2 } } int_val: 14 } } device { type: \"CPU\" vendor: \"GenuineIntel\" model: \"103\" frequency: 1996 num_cores: 32 environment { key: \"cpu_instruction_set\" value: \"AVX SSE, SSE2, SSE3, SSSE3, SSE4.1, SSE4.2\" } environment { key: \"eigen\" value: \"3.4.90\" } l1_cache_size: 49152 l2_cache_size: 2097152 l3_cache_size: 37748736 memory_size: 268435456 } outputs { dtype: DT_FLOAT shape { dim { size: -9 } dim { size: 14 } dim { size: 14 } dim { size: 256 } } }\n",
      "W0000 00:00:1736866716.875249    8114 op_level_cost_estimator.cc:699] Error in PredictCost() for the op: op: \"CropAndResize\" attr { key: \"T\" value { type: DT_FLOAT } } attr { key: \"extrapolation_value\" value { f: 0 } } attr { key: \"method\" value { s: \"bilinear\" } } inputs { dtype: DT_FLOAT shape { dim { size: 1 } dim { size: 128 } dim { size: 128 } dim { size: 256 } } } inputs { dtype: DT_FLOAT shape { dim { size: -11 } dim { size: 4 } } } inputs { dtype: DT_INT32 shape { dim { size: -11 } } } inputs { dtype: DT_INT32 shape { dim { size: 2 } } value { dtype: DT_INT32 tensor_shape { dim { size: 2 } } int_val: 14 } } device { type: \"CPU\" vendor: \"GenuineIntel\" model: \"103\" frequency: 1996 num_cores: 32 environment { key: \"cpu_instruction_set\" value: \"AVX SSE, SSE2, SSE3, SSSE3, SSE4.1, SSE4.2\" } environment { key: \"eigen\" value: \"3.4.90\" } l1_cache_size: 49152 l2_cache_size: 2097152 l3_cache_size: 37748736 memory_size: 268435456 } outputs { dtype: DT_FLOAT shape { dim { size: -11 } dim { size: 14 } dim { size: 14 } dim { size: 256 } } }\n",
      "W0000 00:00:1736866716.875267    8114 op_level_cost_estimator.cc:699] Error in PredictCost() for the op: op: \"CropAndResize\" attr { key: \"T\" value { type: DT_FLOAT } } attr { key: \"extrapolation_value\" value { f: 0 } } attr { key: \"method\" value { s: \"bilinear\" } } inputs { dtype: DT_FLOAT shape { dim { size: 1 } dim { size: 64 } dim { size: 64 } dim { size: 256 } } } inputs { dtype: DT_FLOAT shape { dim { size: -13 } dim { size: 4 } } } inputs { dtype: DT_INT32 shape { dim { size: -13 } } } inputs { dtype: DT_INT32 shape { dim { size: 2 } } value { dtype: DT_INT32 tensor_shape { dim { size: 2 } } int_val: 14 } } device { type: \"CPU\" vendor: \"GenuineIntel\" model: \"103\" frequency: 1996 num_cores: 32 environment { key: \"cpu_instruction_set\" value: \"AVX SSE, SSE2, SSE3, SSSE3, SSE4.1, SSE4.2\" } environment { key: \"eigen\" value: \"3.4.90\" } l1_cache_size: 49152 l2_cache_size: 2097152 l3_cache_size: 37748736 memory_size: 268435456 } outputs { dtype: DT_FLOAT shape { dim { size: -13 } dim { size: 14 } dim { size: 14 } dim { size: 256 } } }\n",
      "W0000 00:00:1736866716.875291    8114 op_level_cost_estimator.cc:699] Error in PredictCost() for the op: op: \"CropAndResize\" attr { key: \"T\" value { type: DT_FLOAT } } attr { key: \"extrapolation_value\" value { f: 0 } } attr { key: \"method\" value { s: \"bilinear\" } } inputs { dtype: DT_FLOAT shape { dim { size: 1 } dim { size: 32 } dim { size: 32 } dim { size: 256 } } } inputs { dtype: DT_FLOAT shape { dim { size: -15 } dim { size: 4 } } } inputs { dtype: DT_INT32 shape { dim { size: -15 } } } inputs { dtype: DT_INT32 shape { dim { size: 2 } } value { dtype: DT_INT32 tensor_shape { dim { size: 2 } } int_val: 14 } } device { type: \"CPU\" vendor: \"GenuineIntel\" model: \"103\" frequency: 1996 num_cores: 32 environment { key: \"cpu_instruction_set\" value: \"AVX SSE, SSE2, SSE3, SSSE3, SSE4.1, SSE4.2\" } environment { key: \"eigen\" value: \"3.4.90\" } l1_cache_size: 49152 l2_cache_size: 2097152 l3_cache_size: 37748736 memory_size: 268435456 } outputs { dtype: DT_FLOAT shape { dim { size: -15 } dim { size: 14 } dim { size: 14 } dim { size: 256 } } }\n"
     ]
    },
    {
     "data": {
      "text/plain": [
       "TensorShape([1, 10, 6])"
      ]
     },
     "metadata": {},
     "output_type": "display_data"
    },
    {
     "data": {
      "text/plain": [
       "TensorShape([1, 1000, 2])"
      ]
     },
     "metadata": {},
     "output_type": "display_data"
    },
    {
     "data": {
      "text/plain": [
       "[<tf.Tensor: shape=(1, 10, 6), dtype=float32, numpy=\n",
       " array([[[0.3155494 , 0.60850537, 0.4537222 , 0.69937855, 1.        ,\n",
       "          0.99838877],\n",
       "         [0.37167203, 0.4351973 , 0.39085433, 0.4648971 , 1.        ,\n",
       "          0.8981158 ],\n",
       "         [0.        , 0.        , 0.        , 0.        , 0.        ,\n",
       "          0.        ],\n",
       "         [0.        , 0.        , 0.        , 0.        , 0.        ,\n",
       "          0.        ],\n",
       "         [0.        , 0.        , 0.        , 0.        , 0.        ,\n",
       "          0.        ],\n",
       "         [0.        , 0.        , 0.        , 0.        , 0.        ,\n",
       "          0.        ],\n",
       "         [0.        , 0.        , 0.        , 0.        , 0.        ,\n",
       "          0.        ],\n",
       "         [0.        , 0.        , 0.        , 0.        , 0.        ,\n",
       "          0.        ],\n",
       "         [0.        , 0.        , 0.        , 0.        , 0.        ,\n",
       "          0.        ],\n",
       "         [0.        , 0.        , 0.        , 0.        , 0.        ,\n",
       "          0.        ]]], dtype=float32)>,\n",
       " <tf.Tensor: shape=(1, 1000, 2), dtype=float32, numpy=\n",
       " array([[[2.0478647e-03, 9.9795216e-01],\n",
       "         [4.6782765e-01, 5.3217232e-01],\n",
       "         [4.5478436e-01, 5.4521561e-01],\n",
       "         ...,\n",
       "         [9.9422848e-01, 5.7715476e-03],\n",
       "         [9.9900323e-01, 9.9684519e-04],\n",
       "         [9.9210829e-01, 7.8917043e-03]]], dtype=float32)>,\n",
       " <tf.Tensor: shape=(1, 1000, 2, 4), dtype=float32, numpy=\n",
       " array([[[[ 0.40184602,  0.705694  ,  0.38650846, -0.48679367],\n",
       "          [-0.26935062, -0.01402951,  0.2630919 , -0.14798953]],\n",
       " \n",
       "         [[ 0.50154287,  0.6177795 , -0.12476088, -0.36460274],\n",
       "          [ 0.38614044, -0.40049416, -0.5306875 , -0.9218284 ]],\n",
       " \n",
       "         [[ 0.28432706,  0.21804373, -0.01278678, -0.66678506],\n",
       "          [ 0.07587664,  0.4764742 , -1.0634515 ,  0.4070799 ]],\n",
       " \n",
       "         ...,\n",
       " \n",
       "         [[ 0.23863375, -0.16474995, -0.1656084 , -0.59222925],\n",
       "          [ 0.7314919 ,  0.4829951 ,  1.2865316 ,  0.5784791 ]],\n",
       " \n",
       "         [[ 1.3627558 , -0.7479837 ,  0.512756  , -1.063596  ],\n",
       "          [ 0.8507152 ,  0.8779662 , -0.36178985, -0.42881927]],\n",
       " \n",
       "         [[ 0.66542315, -0.3890584 ,  0.10523911,  0.36724576],\n",
       "          [ 0.24879596, -1.3279978 , -1.1148    ,  0.6125162 ]]]],\n",
       "       dtype=float32)>,\n",
       " <tf.Tensor: shape=(1, 10, 28, 28, 2), dtype=float32, numpy=\n",
       " array([[[[[8.4903425e-01, 1.3785948e-03],\n",
       "           [8.1901634e-01, 1.6089320e-03],\n",
       "           [8.6245078e-01, 1.2744643e-03],\n",
       "           ...,\n",
       "           [6.6472667e-01, 1.0367411e-02],\n",
       "           [7.5941181e-01, 8.8277897e-03],\n",
       "           [6.9375360e-01, 8.7798657e-03]],\n",
       " \n",
       "          [[8.4531987e-01, 1.3171709e-03],\n",
       "           [8.5324311e-01, 1.5107659e-03],\n",
       "           [8.1004220e-01, 2.2860256e-03],\n",
       "           ...,\n",
       "           [6.9292873e-01, 8.8100238e-03],\n",
       "           [7.1558213e-01, 7.6904045e-03],\n",
       "           [7.2639406e-01, 7.5297398e-03]],\n",
       " \n",
       "          [[8.6493224e-01, 1.2999353e-03],\n",
       "           [7.8664792e-01, 2.3529888e-03],\n",
       "           [8.2980132e-01, 7.2245039e-03],\n",
       "           ...,\n",
       "           [7.7087390e-01, 4.4681462e-03],\n",
       "           [8.1944925e-01, 4.4375360e-03],\n",
       "           [6.9567448e-01, 5.7885610e-03]],\n",
       " \n",
       "          ...,\n",
       " \n",
       "          [[8.8713086e-01, 7.6083402e-04],\n",
       "           [8.6263531e-01, 1.0920896e-03],\n",
       "           [8.9718825e-01, 2.3085810e-03],\n",
       "           ...,\n",
       "           [7.6837760e-01, 3.4514010e-02],\n",
       "           [7.9756337e-01, 8.0047967e-03],\n",
       "           [8.0973762e-01, 5.3486279e-03]],\n",
       " \n",
       "          [[8.7157774e-01, 7.1308500e-04],\n",
       "           [8.5911649e-01, 5.5265566e-04],\n",
       "           [9.1354090e-01, 3.7776146e-04],\n",
       "           ...,\n",
       "           [7.7188814e-01, 2.4181841e-02],\n",
       "           [8.0765659e-01, 6.4997827e-03],\n",
       "           [7.6815605e-01, 5.1642675e-03]],\n",
       " \n",
       "          [[8.8629234e-01, 5.5576966e-04],\n",
       "           [8.9702570e-01, 4.9067423e-04],\n",
       "           [9.2057461e-01, 2.0233901e-04],\n",
       "           ...,\n",
       "           [7.8633088e-01, 1.8000087e-02],\n",
       "           [7.6803350e-01, 7.7587953e-03],\n",
       "           [7.8568715e-01, 6.8219304e-03]]],\n",
       " \n",
       " \n",
       "         [[[8.6187369e-01, 1.4659856e-03],\n",
       "           [8.3720535e-01, 1.4879049e-03],\n",
       "           [8.9226675e-01, 8.5483864e-04],\n",
       "           ...,\n",
       "           [7.0298767e-01, 6.6962005e-03],\n",
       "           [7.6549447e-01, 8.2363328e-03],\n",
       "           [7.0892197e-01, 8.7295100e-03]],\n",
       " \n",
       "          [[8.6360490e-01, 1.0783062e-03],\n",
       "           [8.7465090e-01, 1.1212239e-03],\n",
       "           [8.7556946e-01, 6.8980205e-04],\n",
       "           ...,\n",
       "           [7.3412210e-01, 8.8658500e-03],\n",
       "           [7.4221450e-01, 9.3623195e-03],\n",
       "           [7.4795592e-01, 9.5147621e-03]],\n",
       " \n",
       "          [[8.9745623e-01, 7.3961017e-04],\n",
       "           [8.5949957e-01, 7.8589376e-04],\n",
       "           [9.1655815e-01, 8.7070878e-04],\n",
       "           ...,\n",
       "           [6.9313520e-01, 1.1953265e-02],\n",
       "           [7.5750297e-01, 1.1261360e-02],\n",
       "           [6.8553197e-01, 1.0060546e-02]],\n",
       " \n",
       "          ...,\n",
       " \n",
       "          [[5.9243387e-01, 2.6674452e-01],\n",
       "           [4.8398650e-01, 4.9757391e-01],\n",
       "           [4.4438073e-01, 7.4942750e-01],\n",
       "           ...,\n",
       "           [6.7274958e-01, 1.0028315e-01],\n",
       "           [6.9241428e-01, 8.0221355e-02],\n",
       "           [7.0493680e-01, 7.1158409e-02]],\n",
       " \n",
       "          [[5.9129137e-01, 2.2530507e-01],\n",
       "           [5.1084161e-01, 3.7396750e-01],\n",
       "           [5.1984483e-01, 5.6779307e-01],\n",
       "           ...,\n",
       "           [6.3945687e-01, 6.1088543e-02],\n",
       "           [6.6134113e-01, 4.6114709e-02],\n",
       "           [6.6858840e-01, 3.9691251e-02]],\n",
       " \n",
       "          [[6.1805719e-01, 1.7555350e-01],\n",
       "           [5.5636251e-01, 2.7917403e-01],\n",
       "           [5.5975068e-01, 4.0597531e-01],\n",
       "           ...,\n",
       "           [7.2666150e-01, 3.6511343e-02],\n",
       "           [7.1784133e-01, 2.9591216e-02],\n",
       "           [7.4307638e-01, 3.0125683e-02]]],\n",
       " \n",
       " \n",
       "         [[[6.7284948e-01, 5.3834252e-02],\n",
       "           [6.7721891e-01, 4.9151883e-02],\n",
       "           [6.9776452e-01, 5.5045262e-02],\n",
       "           ...,\n",
       "           [6.5644294e-01, 4.7908112e-02],\n",
       "           [6.6531140e-01, 5.4529283e-02],\n",
       "           [6.5259004e-01, 5.2207582e-02]],\n",
       " \n",
       "          [[6.7622685e-01, 5.4361079e-02],\n",
       "           [6.8908650e-01, 5.0185636e-02],\n",
       "           [6.7295498e-01, 5.9060127e-02],\n",
       "           ...,\n",
       "           [6.8545324e-01, 4.9077157e-02],\n",
       "           [6.7155510e-01, 5.1700819e-02],\n",
       "           [6.9725871e-01, 5.0969284e-02]],\n",
       " \n",
       "          [[6.8746513e-01, 6.0762975e-02],\n",
       "           [6.8392640e-01, 5.5083364e-02],\n",
       "           [7.0641452e-01, 8.3389938e-02],\n",
       "           ...,\n",
       "           [6.4726913e-01, 8.0488965e-02],\n",
       "           [6.6445559e-01, 7.1604550e-02],\n",
       "           [6.3760781e-01, 6.2727973e-02]],\n",
       " \n",
       "          ...,\n",
       " \n",
       "          [[6.6644293e-01, 7.9844415e-02],\n",
       "           [6.5841025e-01, 6.8282418e-02],\n",
       "           [6.7761642e-01, 1.1013140e-01],\n",
       "           ...,\n",
       "           [6.9505680e-01, 7.7714086e-02],\n",
       "           [6.8247014e-01, 5.5489480e-02],\n",
       "           [7.0460850e-01, 5.1275857e-02]],\n",
       " \n",
       "          [[6.3968015e-01, 7.7206664e-02],\n",
       "           [6.2912124e-01, 6.7381456e-02],\n",
       "           [6.5133804e-01, 7.8684308e-02],\n",
       "           ...,\n",
       "           [6.4578730e-01, 6.2027555e-02],\n",
       "           [6.6455603e-01, 4.8851933e-02],\n",
       "           [6.5863848e-01, 4.7455743e-02]],\n",
       " \n",
       "          [[6.6790676e-01, 6.9185108e-02],\n",
       "           [6.7159635e-01, 5.8664344e-02],\n",
       "           [6.6182542e-01, 7.3032022e-02],\n",
       "           ...,\n",
       "           [6.8758136e-01, 5.3727292e-02],\n",
       "           [6.9171059e-01, 4.5146231e-02],\n",
       "           [7.0753396e-01, 4.5456074e-02]]],\n",
       " \n",
       " \n",
       "         ...,\n",
       " \n",
       " \n",
       "         [[[6.7284948e-01, 5.3834252e-02],\n",
       "           [6.7721891e-01, 4.9151883e-02],\n",
       "           [6.9776452e-01, 5.5045262e-02],\n",
       "           ...,\n",
       "           [6.5644294e-01, 4.7908112e-02],\n",
       "           [6.6531140e-01, 5.4529283e-02],\n",
       "           [6.5259004e-01, 5.2207582e-02]],\n",
       " \n",
       "          [[6.7622685e-01, 5.4361079e-02],\n",
       "           [6.8908650e-01, 5.0185636e-02],\n",
       "           [6.7295498e-01, 5.9060127e-02],\n",
       "           ...,\n",
       "           [6.8545324e-01, 4.9077157e-02],\n",
       "           [6.7155510e-01, 5.1700819e-02],\n",
       "           [6.9725871e-01, 5.0969284e-02]],\n",
       " \n",
       "          [[6.8746513e-01, 6.0762975e-02],\n",
       "           [6.8392640e-01, 5.5083364e-02],\n",
       "           [7.0641452e-01, 8.3389938e-02],\n",
       "           ...,\n",
       "           [6.4726913e-01, 8.0488965e-02],\n",
       "           [6.6445559e-01, 7.1604550e-02],\n",
       "           [6.3760781e-01, 6.2727973e-02]],\n",
       " \n",
       "          ...,\n",
       " \n",
       "          [[6.6644293e-01, 7.9844415e-02],\n",
       "           [6.5841025e-01, 6.8282418e-02],\n",
       "           [6.7761642e-01, 1.1013140e-01],\n",
       "           ...,\n",
       "           [6.9505680e-01, 7.7714086e-02],\n",
       "           [6.8247014e-01, 5.5489480e-02],\n",
       "           [7.0460850e-01, 5.1275857e-02]],\n",
       " \n",
       "          [[6.3968015e-01, 7.7206664e-02],\n",
       "           [6.2912124e-01, 6.7381456e-02],\n",
       "           [6.5133804e-01, 7.8684308e-02],\n",
       "           ...,\n",
       "           [6.4578730e-01, 6.2027555e-02],\n",
       "           [6.6455603e-01, 4.8851933e-02],\n",
       "           [6.5863848e-01, 4.7455743e-02]],\n",
       " \n",
       "          [[6.6790676e-01, 6.9185108e-02],\n",
       "           [6.7159635e-01, 5.8664344e-02],\n",
       "           [6.6182542e-01, 7.3032022e-02],\n",
       "           ...,\n",
       "           [6.8758136e-01, 5.3727292e-02],\n",
       "           [6.9171059e-01, 4.5146231e-02],\n",
       "           [7.0753396e-01, 4.5456074e-02]]],\n",
       " \n",
       " \n",
       "         [[[6.7284948e-01, 5.3834252e-02],\n",
       "           [6.7721891e-01, 4.9151883e-02],\n",
       "           [6.9776452e-01, 5.5045262e-02],\n",
       "           ...,\n",
       "           [6.5644294e-01, 4.7908112e-02],\n",
       "           [6.6531140e-01, 5.4529283e-02],\n",
       "           [6.5259004e-01, 5.2207582e-02]],\n",
       " \n",
       "          [[6.7622685e-01, 5.4361079e-02],\n",
       "           [6.8908650e-01, 5.0185636e-02],\n",
       "           [6.7295498e-01, 5.9060127e-02],\n",
       "           ...,\n",
       "           [6.8545324e-01, 4.9077157e-02],\n",
       "           [6.7155510e-01, 5.1700819e-02],\n",
       "           [6.9725871e-01, 5.0969284e-02]],\n",
       " \n",
       "          [[6.8746513e-01, 6.0762975e-02],\n",
       "           [6.8392640e-01, 5.5083364e-02],\n",
       "           [7.0641452e-01, 8.3389938e-02],\n",
       "           ...,\n",
       "           [6.4726913e-01, 8.0488965e-02],\n",
       "           [6.6445559e-01, 7.1604550e-02],\n",
       "           [6.3760781e-01, 6.2727973e-02]],\n",
       " \n",
       "          ...,\n",
       " \n",
       "          [[6.6644293e-01, 7.9844415e-02],\n",
       "           [6.5841025e-01, 6.8282418e-02],\n",
       "           [6.7761642e-01, 1.1013140e-01],\n",
       "           ...,\n",
       "           [6.9505680e-01, 7.7714086e-02],\n",
       "           [6.8247014e-01, 5.5489480e-02],\n",
       "           [7.0460850e-01, 5.1275857e-02]],\n",
       " \n",
       "          [[6.3968015e-01, 7.7206664e-02],\n",
       "           [6.2912124e-01, 6.7381456e-02],\n",
       "           [6.5133804e-01, 7.8684308e-02],\n",
       "           ...,\n",
       "           [6.4578730e-01, 6.2027555e-02],\n",
       "           [6.6455603e-01, 4.8851933e-02],\n",
       "           [6.5863848e-01, 4.7455743e-02]],\n",
       " \n",
       "          [[6.6790676e-01, 6.9185108e-02],\n",
       "           [6.7159635e-01, 5.8664344e-02],\n",
       "           [6.6182542e-01, 7.3032022e-02],\n",
       "           ...,\n",
       "           [6.8758136e-01, 5.3727292e-02],\n",
       "           [6.9171059e-01, 4.5146231e-02],\n",
       "           [7.0753396e-01, 4.5456074e-02]]],\n",
       " \n",
       " \n",
       "         [[[6.7284948e-01, 5.3834252e-02],\n",
       "           [6.7721891e-01, 4.9151883e-02],\n",
       "           [6.9776452e-01, 5.5045262e-02],\n",
       "           ...,\n",
       "           [6.5644294e-01, 4.7908112e-02],\n",
       "           [6.6531140e-01, 5.4529283e-02],\n",
       "           [6.5259004e-01, 5.2207582e-02]],\n",
       " \n",
       "          [[6.7622685e-01, 5.4361079e-02],\n",
       "           [6.8908650e-01, 5.0185636e-02],\n",
       "           [6.7295498e-01, 5.9060127e-02],\n",
       "           ...,\n",
       "           [6.8545324e-01, 4.9077157e-02],\n",
       "           [6.7155510e-01, 5.1700819e-02],\n",
       "           [6.9725871e-01, 5.0969284e-02]],\n",
       " \n",
       "          [[6.8746513e-01, 6.0762975e-02],\n",
       "           [6.8392640e-01, 5.5083364e-02],\n",
       "           [7.0641452e-01, 8.3389938e-02],\n",
       "           ...,\n",
       "           [6.4726913e-01, 8.0488965e-02],\n",
       "           [6.6445559e-01, 7.1604550e-02],\n",
       "           [6.3760781e-01, 6.2727973e-02]],\n",
       " \n",
       "          ...,\n",
       " \n",
       "          [[6.6644293e-01, 7.9844415e-02],\n",
       "           [6.5841025e-01, 6.8282418e-02],\n",
       "           [6.7761642e-01, 1.1013140e-01],\n",
       "           ...,\n",
       "           [6.9505680e-01, 7.7714086e-02],\n",
       "           [6.8247014e-01, 5.5489480e-02],\n",
       "           [7.0460850e-01, 5.1275857e-02]],\n",
       " \n",
       "          [[6.3968015e-01, 7.7206664e-02],\n",
       "           [6.2912124e-01, 6.7381456e-02],\n",
       "           [6.5133804e-01, 7.8684308e-02],\n",
       "           ...,\n",
       "           [6.4578730e-01, 6.2027555e-02],\n",
       "           [6.6455603e-01, 4.8851933e-02],\n",
       "           [6.5863848e-01, 4.7455743e-02]],\n",
       " \n",
       "          [[6.6790676e-01, 6.9185108e-02],\n",
       "           [6.7159635e-01, 5.8664344e-02],\n",
       "           [6.6182542e-01, 7.3032022e-02],\n",
       "           ...,\n",
       "           [6.8758136e-01, 5.3727292e-02],\n",
       "           [6.9171059e-01, 4.5146231e-02],\n",
       "           [7.0753396e-01, 4.5456074e-02]]]]], dtype=float32)>,\n",
       " <tf.Tensor: shape=(1, 1000, 4), dtype=float32, numpy=\n",
       " array([[[3.1642330e-01, 6.0936385e-01, 4.5559505e-01, 7.0325935e-01],\n",
       "         [2.2000104e-01, 4.0639937e-04, 3.4892887e-01, 1.2929842e-01],\n",
       "         [2.1439485e-01, 5.2095391e-03, 3.5731673e-01, 9.7138390e-02],\n",
       "         ...,\n",
       "         [0.0000000e+00, 1.4073351e-01, 2.8672367e-01, 3.1862533e-01],\n",
       "         [1.7319733e-01, 9.8342425e-01, 1.9649152e-01, 1.0000000e+00],\n",
       "         [5.4590452e-01, 6.0573119e-01, 8.4574980e-01, 9.2760694e-01]]],\n",
       "       dtype=float32)>,\n",
       " <tf.Tensor: shape=(1, 261888, 2), dtype=float32, numpy=\n",
       " array([[[9.7783536e-01, 2.2164593e-02],\n",
       "         [9.8590600e-01, 1.4093961e-02],\n",
       "         [9.8478806e-01, 1.5211977e-02],\n",
       "         ...,\n",
       "         [9.9453968e-01, 5.4602921e-03],\n",
       "         [9.9915683e-01, 8.4314105e-04],\n",
       "         [9.9923873e-01, 7.6130015e-04]]], dtype=float32)>,\n",
       " <tf.Tensor: shape=(1, 261888, 4), dtype=float32, numpy=\n",
       " array([[[ 0.11690686, -0.28299716, -1.7754979 , -1.5602338 ],\n",
       "         [-0.421067  , -0.5999708 ,  0.41287336, -0.6978278 ],\n",
       "         [-0.06929377, -0.97148514, -0.20263824, -3.319901  ],\n",
       "         ...,\n",
       "         [-1.3269074 ,  0.26189616,  4.831484  ,  8.274894  ],\n",
       "         [ 0.42258164,  1.320699  ,  7.8044114 ,  7.204186  ],\n",
       "         [ 0.6358692 , -0.2636749 ,  9.5835705 ,  6.9215717 ]]],\n",
       "       dtype=float32)>]"
      ]
     },
     "metadata": {},
     "output_type": "display_data"
    }
   ],
   "source": [
    "input_image = tf.convert_to_tensor(images.astype(np.float32), name=\"input_image\")\n",
    "# input_image = tf.convert_to_tensor(np.random.uniform(0,1,size=(1,1024,1024,3)).astype(np.float32), name=\"input_image\")\n",
    "\n",
    "input_image_meta = tf.convert_to_tensor(\n",
    "    image_metas.astype(np.float32), name=\"input_image_meta\"\n",
    ")\n",
    "input_anchors = tf.convert_to_tensor(anchors.astype(np.float32), name=\"input_anchors\")\n",
    "\n",
    "result = model([input_image, input_image_meta, input_anchors])\n",
    "display(result[0].shape)\n",
    "display(result[1].shape)\n",
    "display(result)"
   ]
  },
  {
   "cell_type": "code",
   "execution_count": null,
   "metadata": {},
   "outputs": [
    {
     "name": "stderr",
     "output_type": "stream",
     "text": [
      "\u001b[0;93m2025-01-14 16:24:30.378278069 [W:onnxruntime:, transformer_memcpy.cc:74 ApplyImpl] 29 Memcpy nodes are added to the graph tf2onnx for CUDAExecutionProvider. It might have negative impact on performance (including unable to run CUDA graph). Set session_options.log_severity_level=1 to see the detail logs before this message.\u001b[m\n",
      "\u001b[0;93m2025-01-14 16:24:30.378469423 [W:onnxruntime:, transformer_memcpy.cc:74 ApplyImpl] 5 Memcpy nodes are added to the graph tf2onnx__2553 for CUDAExecutionProvider. It might have negative impact on performance (including unable to run CUDA graph). Set session_options.log_severity_level=1 to see the detail logs before this message.\u001b[m\n",
      "\u001b[0;93m2025-01-14 16:24:30.378603169 [W:onnxruntime:, transformer_memcpy.cc:74 ApplyImpl] 5 Memcpy nodes are added to the graph tf2onnx__2621 for CUDAExecutionProvider. It might have negative impact on performance (including unable to run CUDA graph). Set session_options.log_severity_level=1 to see the detail logs before this message.\u001b[m\n",
      "\u001b[0;93m2025-01-14 16:24:30.378733308 [W:onnxruntime:, transformer_memcpy.cc:74 ApplyImpl] 5 Memcpy nodes are added to the graph tf2onnx__2689 for CUDAExecutionProvider. It might have negative impact on performance (including unable to run CUDA graph). Set session_options.log_severity_level=1 to see the detail logs before this message.\u001b[m\n",
      "\u001b[0;93m2025-01-14 16:24:30.378863678 [W:onnxruntime:, transformer_memcpy.cc:74 ApplyImpl] 5 Memcpy nodes are added to the graph tf2onnx__2757 for CUDAExecutionProvider. It might have negative impact on performance (including unable to run CUDA graph). Set session_options.log_severity_level=1 to see the detail logs before this message.\u001b[m\n",
      "\u001b[0;93m2025-01-14 16:24:30.379103991 [W:onnxruntime:, transformer_memcpy.cc:74 ApplyImpl] 1 Memcpy nodes are added to the graph __inference_mask_rcnn_mrcnn_detection_map_while_body_12470_16945 for CUDAExecutionProvider. It might have negative impact on performance (including unable to run CUDA graph). Set session_options.log_severity_level=1 to see the detail logs before this message.\u001b[m\n",
      "\u001b[0;93m2025-01-14 16:24:30.379243846 [W:onnxruntime:, transformer_memcpy.cc:74 ApplyImpl] 5 Memcpy nodes are added to the graph tf2onnx__3530 for CUDAExecutionProvider. It might have negative impact on performance (including unable to run CUDA graph). Set session_options.log_severity_level=1 to see the detail logs before this message.\u001b[m\n",
      "\u001b[0;93m2025-01-14 16:24:30.379373080 [W:onnxruntime:, transformer_memcpy.cc:74 ApplyImpl] 5 Memcpy nodes are added to the graph tf2onnx__3597 for CUDAExecutionProvider. It might have negative impact on performance (including unable to run CUDA graph). Set session_options.log_severity_level=1 to see the detail logs before this message.\u001b[m\n",
      "\u001b[0;93m2025-01-14 16:24:30.379499352 [W:onnxruntime:, transformer_memcpy.cc:74 ApplyImpl] 5 Memcpy nodes are added to the graph tf2onnx__3664 for CUDAExecutionProvider. It might have negative impact on performance (including unable to run CUDA graph). Set session_options.log_severity_level=1 to see the detail logs before this message.\u001b[m\n",
      "\u001b[0;93m2025-01-14 16:24:30.379628055 [W:onnxruntime:, transformer_memcpy.cc:74 ApplyImpl] 5 Memcpy nodes are added to the graph tf2onnx__3731 for CUDAExecutionProvider. It might have negative impact on performance (including unable to run CUDA graph). Set session_options.log_severity_level=1 to see the detail logs before this message.\u001b[m\n",
      "\u001b[0;93m2025-01-14 16:24:30.383358892 [W:onnxruntime:, session_state.cc:1168 VerifyEachNodeIsAssignedToAnEp] Some nodes were not assigned to the preferred execution providers which may or may not have an negative impact on performance. e.g. ORT explicitly assigns shape related ops to CPU to improve perf.\u001b[m\n",
      "\u001b[0;93m2025-01-14 16:24:30.383363899 [W:onnxruntime:, session_state.cc:1170 VerifyEachNodeIsAssignedToAnEp] Rerunning with verbose output on a non-minimal build will show node assignments.\u001b[m\n",
      "\u001b[0;93m2025-01-14 16:24:30.477981778 [W:onnxruntime:Default, upsamplebase.h:178 UpsampleBase] `tf_half_pixel_for_nn` is deprecated since opset 13, yet this opset 18 model uses the deprecated attribute\u001b[m\n",
      "\u001b[0;93m2025-01-14 16:24:30.478007733 [W:onnxruntime:Default, upsamplebase.h:178 UpsampleBase] `tf_half_pixel_for_nn` is deprecated since opset 13, yet this opset 18 model uses the deprecated attribute\u001b[m\n",
      "\u001b[0;93m2025-01-14 16:24:30.478023918 [W:onnxruntime:Default, upsamplebase.h:178 UpsampleBase] `tf_half_pixel_for_nn` is deprecated since opset 13, yet this opset 18 model uses the deprecated attribute\u001b[m\n",
      "\u001b[0;93m2025-01-14 16:24:30.478186821 [W:onnxruntime:Default, scatter_nd.h:51 ScatterNDWithAtomicReduction] ScatterND with reduction=='none' only guarantees to be correct if indices are not duplicated.\u001b[m\n",
      "\u001b[0;93m2025-01-14 16:24:30.478241136 [W:onnxruntime:Default, scatter_nd.h:51 ScatterNDWithAtomicReduction] ScatterND with reduction=='none' only guarantees to be correct if indices are not duplicated.\u001b[m\n"
     ]
    },
    {
     "name": "stdout",
     "output_type": "stream",
     "text": [
      "Output #0\n"
     ]
    },
    {
     "data": {
      "text/plain": [
       "numpy.ndarray"
      ]
     },
     "metadata": {},
     "output_type": "display_data"
    },
    {
     "data": {
      "text/plain": [
       "(1, 1000, 4)"
      ]
     },
     "metadata": {},
     "output_type": "display_data"
    },
    {
     "data": {
      "text/plain": [
       "array([0.3164205 , 0.6093571 , 0.45560375, 0.70326054], dtype=float32)"
      ]
     },
     "metadata": {},
     "output_type": "display_data"
    },
    {
     "name": "stdout",
     "output_type": "stream",
     "text": [
      "Output #1\n"
     ]
    },
    {
     "data": {
      "text/plain": [
       "numpy.ndarray"
      ]
     },
     "metadata": {},
     "output_type": "display_data"
    },
    {
     "data": {
      "text/plain": [
       "(1, 1000, 2, 4)"
      ]
     },
     "metadata": {},
     "output_type": "display_data"
    },
    {
     "data": {
      "text/plain": [
       "array([[ 0.40185162,  0.7062724 ,  0.38620064, -0.48677957],\n",
       "       [-0.2696281 , -0.01316509,  0.2629119 , -0.14850959]],\n",
       "      dtype=float32)"
      ]
     },
     "metadata": {},
     "output_type": "display_data"
    },
    {
     "name": "stdout",
     "output_type": "stream",
     "text": [
      "Output #2\n"
     ]
    },
    {
     "data": {
      "text/plain": [
       "numpy.ndarray"
      ]
     },
     "metadata": {},
     "output_type": "display_data"
    },
    {
     "data": {
      "text/plain": [
       "(1, 1000, 2)"
      ]
     },
     "metadata": {},
     "output_type": "display_data"
    },
    {
     "data": {
      "text/plain": [
       "array([0.00204859, 0.99795145], dtype=float32)"
      ]
     },
     "metadata": {},
     "output_type": "display_data"
    },
    {
     "name": "stdout",
     "output_type": "stream",
     "text": [
      "Output #3\n"
     ]
    },
    {
     "data": {
      "text/plain": [
       "numpy.ndarray"
      ]
     },
     "metadata": {},
     "output_type": "display_data"
    },
    {
     "data": {
      "text/plain": [
       "(1, 10, 6)"
      ]
     },
     "metadata": {},
     "output_type": "display_data"
    },
    {
     "data": {
      "text/plain": [
       "array([0.31554183, 0.6085074 , 0.4537229 , 0.69938105, 1.        ,\n",
       "       0.9983883 ], dtype=float32)"
      ]
     },
     "metadata": {},
     "output_type": "display_data"
    },
    {
     "name": "stdout",
     "output_type": "stream",
     "text": [
      "Output #4\n"
     ]
    },
    {
     "data": {
      "text/plain": [
       "numpy.ndarray"
      ]
     },
     "metadata": {},
     "output_type": "display_data"
    },
    {
     "data": {
      "text/plain": [
       "(1, 10, 28, 28, 2)"
      ]
     },
     "metadata": {},
     "output_type": "display_data"
    },
    {
     "data": {
      "text/plain": [
       "array([[[8.4905714e-01, 1.3780594e-03],\n",
       "        [8.1907690e-01, 1.6072392e-03],\n",
       "        [8.6251283e-01, 1.2726188e-03],\n",
       "        ...,\n",
       "        [6.6468680e-01, 1.0380685e-02],\n",
       "        [7.5937855e-01, 8.8353753e-03],\n",
       "        [6.9377011e-01, 8.7819695e-03]],\n",
       "\n",
       "       [[8.4535539e-01, 1.3167262e-03],\n",
       "        [8.5329914e-01, 1.5093088e-03],\n",
       "        [8.1015867e-01, 2.2817850e-03],\n",
       "        ...,\n",
       "        [6.9287652e-01, 8.8259578e-03],\n",
       "        [7.1561551e-01, 7.6999664e-03],\n",
       "        [7.2641510e-01, 7.5354576e-03]],\n",
       "\n",
       "       [[8.6494154e-01, 1.3004541e-03],\n",
       "        [7.8665948e-01, 2.3518205e-03],\n",
       "        [8.2986677e-01, 7.2131753e-03],\n",
       "        ...,\n",
       "        [7.7079582e-01, 4.4717193e-03],\n",
       "        [8.1939870e-01, 4.4412613e-03],\n",
       "        [6.9561678e-01, 5.7929754e-03]],\n",
       "\n",
       "       ...,\n",
       "\n",
       "       [[8.8705027e-01, 7.6329708e-04],\n",
       "        [8.6251777e-01, 1.0956526e-03],\n",
       "        [8.9712036e-01, 2.3159981e-03],\n",
       "        ...,\n",
       "        [7.6842666e-01, 3.4504175e-02],\n",
       "        [7.9763961e-01, 7.9993010e-03],\n",
       "        [8.0980968e-01, 5.3445101e-03]],\n",
       "\n",
       "       [[8.7154108e-01, 7.1436167e-04],\n",
       "        [8.5905337e-01, 5.5366755e-04],\n",
       "        [9.1351557e-01, 3.7872791e-04],\n",
       "        ...,\n",
       "        [7.7193213e-01, 2.4168670e-02],\n",
       "        [8.0772406e-01, 6.4952374e-03],\n",
       "        [7.6817584e-01, 5.1617026e-03]],\n",
       "\n",
       "       [[8.8627595e-01, 5.5652857e-04],\n",
       "        [8.9699537e-01, 4.9138069e-04],\n",
       "        [9.2055571e-01, 2.0271540e-04],\n",
       "        ...,\n",
       "        [7.8637940e-01, 1.7986476e-02],\n",
       "        [7.6810771e-01, 7.7522993e-03],\n",
       "        [7.8573012e-01, 6.8182349e-03]]], dtype=float32)"
      ]
     },
     "metadata": {},
     "output_type": "display_data"
    },
    {
     "name": "stdout",
     "output_type": "stream",
     "text": [
      "Output #5\n"
     ]
    },
    {
     "data": {
      "text/plain": [
       "numpy.ndarray"
      ]
     },
     "metadata": {},
     "output_type": "display_data"
    },
    {
     "data": {
      "text/plain": [
       "(1, 261888, 4)"
      ]
     },
     "metadata": {},
     "output_type": "display_data"
    },
    {
     "data": {
      "text/plain": [
       "array([ 0.11700051, -0.28296793, -1.7756131 , -1.5606557 ], dtype=float32)"
      ]
     },
     "metadata": {},
     "output_type": "display_data"
    },
    {
     "name": "stdout",
     "output_type": "stream",
     "text": [
      "Output #6\n"
     ]
    },
    {
     "data": {
      "text/plain": [
       "numpy.ndarray"
      ]
     },
     "metadata": {},
     "output_type": "display_data"
    },
    {
     "data": {
      "text/plain": [
       "(1, 261888, 2)"
      ]
     },
     "metadata": {},
     "output_type": "display_data"
    },
    {
     "data": {
      "text/plain": [
       "array([0.977842  , 0.02215798], dtype=float32)"
      ]
     },
     "metadata": {},
     "output_type": "display_data"
    }
   ],
   "source": [
    "import onnx\n",
    "\n",
    "onnx_model_path = \"../models/camera0/segmentation/saved_model.onnx\"\n",
    "onnx_model = onnx.load(onnx_model_path)\n",
    "onnx.checker.check_model(onnx_model, full_check=True)\n",
    "\n",
    "import onnxruntime as ort\n",
    "\n",
    "ort_sess = ort.InferenceSession(onnx_model_path, providers=[\"CUDAExecutionProvider\"])\n",
    "outputs = ort_sess.run(\n",
    "    None,\n",
    "    {\"input_image\": images, \"input_image_meta\": image_metas, \"input_anchors\": anchors},\n",
    ")\n",
    "\n",
    "# Print Result\n",
    "for i, output in enumerate(outputs):\n",
    "    print(f\"Output #{i}\")\n",
    "    display(type(output))\n",
    "    display(output.shape)\n",
    "    display(output[0, 0])"
   ]
  }
 ],
 "metadata": {
  "kernelspec": {
   "display_name": "env",
   "language": "python",
   "name": "python3"
  },
  "language_info": {
   "codemirror_mode": {
    "name": "ipython",
    "version": 3
   },
   "file_extension": ".py",
   "mimetype": "text/x-python",
   "name": "python",
   "nbconvert_exporter": "python",
   "pygments_lexer": "ipython3",
   "version": "3.11.11"
  }
 },
 "nbformat": 4,
 "nbformat_minor": 2
}
