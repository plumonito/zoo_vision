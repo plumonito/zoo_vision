{
 "cells": [
  {
   "cell_type": "code",
   "execution_count": 19,
   "metadata": {},
   "outputs": [],
   "source": [
    "import numpy as np\n",
    "import torch\n",
    "import cv2\n",
    "import json\n",
    "import matplotlib.pyplot as plt\n",
    "from pathlib import Path\n",
    "import sys\n",
    "\n",
    "# if \"../model\" not in sys.path:\n",
    "#     sys.path.insert(0, \"../model\")\n",
    "\n",
    "from typing import Any"
   ]
  },
  {
   "cell_type": "code",
   "execution_count": null,
   "metadata": {},
   "outputs": [],
   "source": [
    "coco_root = Path(\"/home/dherrera/data/coco\")\n",
    "\n",
    "data_file = coco_root / \"annotations/instances_val2017.json\"\n",
    "with data_file.open() as f:\n",
    "    data = json.load(f)"
   ]
  },
  {
   "cell_type": "code",
   "execution_count": 21,
   "metadata": {},
   "outputs": [
    {
     "name": "stdout",
     "output_type": "stream",
     "text": [
      "Images: 5000\n",
      "Annotations: 36781\n",
      "Categories: 80\n"
     ]
    }
   ],
   "source": [
    "print(f\"Images: {len(data['images'])}\")\n",
    "print(f\"Annotations: {len(data['annotations'])}\")\n",
    "print(f\"Categories: {len(data['categories'])}\")"
   ]
  },
  {
   "cell_type": "code",
   "execution_count": null,
   "metadata": {},
   "outputs": [
    {
     "name": "stdout",
     "output_type": "stream",
     "text": [
      "[{'supercategory': 'animal', 'id': 1, 'name': 'elephant'}]\n"
     ]
    }
   ],
   "source": [
    "# Ditch\n",
    "elephant_category = [c for c in data[\"categories\"] if c[\"name\"] == \"elephant\"][0]\n",
    "original_category_id = elephant_category[\"id\"]\n",
    "elephant_category[\"id\"] = 1\n",
    "\n",
    "data[\"categories\"] = [elephant_category]\n",
    "print(data[\"categories\"])"
   ]
  },
  {
   "cell_type": "code",
   "execution_count": 23,
   "metadata": {},
   "outputs": [
    {
     "name": "stdout",
     "output_type": "stream",
     "text": [
      "Annotations: 255\n"
     ]
    }
   ],
   "source": [
    "def force_category_id(a):\n",
    "    a[\"category_id\"] = 1\n",
    "    return a\n",
    "\n",
    "\n",
    "data[\"annotations\"] = [\n",
    "    force_category_id(a)\n",
    "    for a in data[\"annotations\"]\n",
    "    if a[\"category_id\"] == original_category_id\n",
    "]\n",
    "print(f\"Annotations: {len(data['annotations'])}\")"
   ]
  },
  {
   "cell_type": "code",
   "execution_count": 24,
   "metadata": {},
   "outputs": [
    {
     "name": "stdout",
     "output_type": "stream",
     "text": [
      "Images: 89\n"
     ]
    }
   ],
   "source": [
    "valid_image_ids = {a[\"image_id\"] for a in data[\"annotations\"]}\n",
    "data[\"images\"] = [i for i in data[\"images\"] if i[\"id\"] in valid_image_ids]\n",
    "print(f\"Images: {len(data['images'])}\")"
   ]
  },
  {
   "cell_type": "code",
   "execution_count": 25,
   "metadata": {},
   "outputs": [
    {
     "name": "stdout",
     "output_type": "stream",
     "text": [
      "Written to /home/dherrera/data/coco/annotations/elephants_val2017.json (0.24 mb)\n"
     ]
    }
   ],
   "source": [
    "output_file = (\n",
    "    coco_root / \"annotations\" / data_file.name.replace(\"instances_\", \"elephants_\")\n",
    ")\n",
    "with output_file.open(\"w\") as f:\n",
    "    json.dump(data, f)\n",
    "print(\n",
    "    f\"Written to {str(output_file)} ({output_file.lstat().st_size / 1024/1024:.2f} mb)\"\n",
    ")"
   ]
  }
 ],
 "metadata": {
  "kernelspec": {
   "display_name": "env",
   "language": "python",
   "name": "python3"
  },
  "language_info": {
   "codemirror_mode": {
    "name": "ipython",
    "version": 3
   },
   "file_extension": ".py",
   "mimetype": "text/x-python",
   "name": "python",
   "nbconvert_exporter": "python",
   "pygments_lexer": "ipython3",
   "version": "3.11.11"
  }
 },
 "nbformat": 4,
 "nbformat_minor": 2
}
